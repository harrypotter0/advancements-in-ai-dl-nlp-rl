{
 "cells": [
  {
   "cell_type": "markdown",
   "metadata": {},
   "source": [
    "# Playing Snake using Deep Reinforcement Learning\n",
    "<hr>\n",
    "\n",
    "Author: [Sahil Johari](http://www.sahiljohari.com/)"
   ]
  },
  {
   "cell_type": "markdown",
   "metadata": {},
   "source": [
    "## Problem Statement"
   ]
  },
  {
   "cell_type": "markdown",
   "metadata": {},
   "source": [
    "Deep reinforcement learning (DRL) is poised to revolutionize the field of artificial intelligence (AI) and represents a step toward building autonomous systems with a higher level of understanding of the visual world. Currently, deep learning is enabling reinforcement learning (RL) to scale to problems that were previously intractable, such as learning to play video games directly from pixels."
   ]
  },
  {
   "cell_type": "markdown",
   "metadata": {},
   "source": [
    "**Reinforcement learning**, explained simply, is a computational approach where an agent interacts with an environment by taking actions in which it tries to maximize an accumulated reward. Here is a simple graph, which I will be referring to often:"
   ]
  },
  {
   "cell_type": "markdown",
   "metadata": {},
   "source": [
    "A reinforcement learning problem is characterized by the following components:\n",
    "\n",
    "* A state space, which is the set of all possible states,\n",
    "* An action space, which is the set of all possible actions,\n",
    "* A cost function, which measures how bad a state is,\n",
    "* A time horizon, which is the number of time steps,\n",
    "* An initial state probability distribution, which specifies how frequently different states occur at the beginning before any action is taken, and\n",
    "* A state transition probability distribution, which specifies how the state changes (probabilistically) after a particular action is taken."
   ]
  },
  {
   "cell_type": "markdown",
   "metadata": {},
   "source": [
    "<img src=\"Q_learning.PNG\" />"
   ]
  },
  {
   "cell_type": "markdown",
   "metadata": {},
   "source": [
    "An agent in a current state (St) takes an action (At) to which the environment reacts and responds, returning a new state(St+1) and reward (Rt+1) to the agent. Given the updated state and reward, the agent chooses the next action, and the loop repeats until an environment is solved or terminated."
   ]
  },
  {
   "cell_type": "markdown",
   "metadata": {},
   "source": [
    "In this project, I will be implementing a **deep Q-network (DQN)** to play a simple game of *Snake*. The goal is to maximize the score of game in a 10x10 space and modify the DQN to stretch out the performance as much as possible."
   ]
  },
  {
   "cell_type": "markdown",
   "metadata": {},
   "source": [
    "## Q-learning and Deep Q-Networks"
   ]
  },
  {
   "cell_type": "markdown",
   "metadata": {},
   "source": [
    "There are two main approaches to solving RL problems:\n",
    "* Methods based on value functions\n",
    "* Methods based on policy search\n",
    "\n",
    "There is also a hybrid actor-critic approach that employs both value functions and policy search. As far as the scope of this project is concerned, I am going to use the _value functions_ approach to play the Snake game.\n",
    "\n",
    "In Q-learning, which is a value functions approach, we use a *Q-table* that maps environment states with actions taken on them. For each (state, action) pair, there is a reward that the agent achieves. The idea is to pick a value that maximizes the cumulative reward by the end of an episode. To do this, we use an equation called the *Bellman equation*, which is shown below:"
   ]
  },
  {
   "attachments": {},
   "cell_type": "markdown",
   "metadata": {},
   "source": [
    "<img src=\"Bellman_equation.PNG\" />"
   ]
  },
  {
   "cell_type": "markdown",
   "metadata": {},
   "source": [
    "- The agent starts by choosing an action with the highest Q value for the current state using argmax. Argmax will return the index/action with the highest value for that state. Initially, our Q table will be all zeros. But, after every step, the Q values for state-action pairs will be updated.\n",
    "\n",
    "- The agent then takes action and we store the future state as state2 (St+1). This will allow the agent to compare the previous state to the new state.\n",
    "\n",
    "- We update the state-action pair (St , At) for Q using the reward, and the max Q value for state2 (St+1). This update is done using the action value formula (based upon the Bellman equation) and allows state-action pairs to be updated in a recursive fashion (based on future values). Note that we still do not have a discount factor included in this model.\n",
    "\n",
    "This is **Q-learning in a nutshell**. To know more about it, refer the citations at the bottom of this notebook."
   ]
  },
  {
   "cell_type": "markdown",
   "metadata": {},
   "source": [
    "A **Deep Q-network**, simply put, is an extension of Q-learning in which the Q-values are approximated using a *deep neural network*. This technique shows a great improvement in the outcome of a reinforcement problem, however, it is not always required. When you have a complex environment space with various factors to consider for an agent to solve it, a DQN would prove to be quite useful.\n",
    "\n",
    "Now that a basic understanding of the concepts has been established, I would start building the game environment followed by the agent to solve it."
   ]
  },
  {
   "cell_type": "code",
   "execution_count": 1,
   "metadata": {},
   "outputs": [
    {
     "name": "stderr",
     "output_type": "stream",
     "text": [
      "Using TensorFlow backend.\n"
     ]
    }
   ],
   "source": [
    "from collections import namedtuple\n",
    "import itertools as it\n",
    "import os\n",
    "from random import sample as rsample\n",
    "import time\n",
    "\n",
    "import numpy as np\n",
    "\n",
    "from sklearn.neural_network import MLPClassifier\n",
    "\n",
    "from keras.models import Sequential\n",
    "from keras.layers.normalization import BatchNormalization\n",
    "from keras.layers.convolutional import Conv2D, MaxPooling2D\n",
    "from keras.layers.core import Dense, Flatten, Dropout\n",
    "from keras.optimizers import SGD, RMSprop, Adam\n",
    "\n",
    "from matplotlib import pyplot as plt\n",
    "from IPython.display import display, clear_output"
   ]
  },
  {
   "cell_type": "markdown",
   "metadata": {},
   "source": [
    "## Creating the game"
   ]
  },
  {
   "cell_type": "markdown",
   "metadata": {},
   "source": [
    "The first step is to create an environment for our agent to operate on. This has been implemented in a simple way using Python coroutines and will be rendered (or displayed) using _Pyplot_ (from Matplotlib). It can also be implemented in a way similar to [OpenAI Gym](https://gym.openai.com/) environments, but I specifically want my own environment to control all the aspects of its execution behavior.\n",
    "\n",
    "If you are using this notebook, feel free to tinker with the code and possibly improve it. You can find the original source of this code in the **References** section [here](#references)."
   ]
  },
  {
   "cell_type": "code",
   "execution_count": 2,
   "metadata": {},
   "outputs": [],
   "source": [
    "class Snake(object):\n",
    "    def __init__(self, rewards, grid_size):\n",
    "        self.grid_size = grid_size\n",
    "        self.snake_length = 3\n",
    "        self.Fruit = namedtuple('Fruit', ['x', 'y'])\n",
    "        self.life_reward = rewards[0]\n",
    "        self.alive_reward = rewards[1]\n",
    "        self.death_reward = rewards[2]\n",
    "        self.reset()\n",
    "        \n",
    "    def reset(self):\n",
    "        self.actions = [(-1, 0)] * self.snake_length  # An action for each snake segment\n",
    "        self.head_x = self.grid_size // 2 - self.snake_length // 2\n",
    "        self.snake = [(x, self.grid_size // 2) for x in range(self.head_x, self.head_x + self.snake_length)]\n",
    "        self.grow = -1  # Don't start growing snake yet\n",
    "        self.fruit = self.Fruit(-1, -1)\n",
    "        \n",
    "    def play(self):\n",
    "        self.reset()\n",
    "        while True:\n",
    "            # Draw borders\n",
    "            screen = np.zeros((self.grid_size, self.grid_size))\n",
    "            screen[[0, -1]] = 1\n",
    "            screen[:, [0, -1]] = 1\n",
    "            sum_of_borders = screen.sum()\n",
    "\n",
    "            # Draw snake\n",
    "            for segm in self.snake:\n",
    "                x, y = segm\n",
    "                screen[y, x] = 1\n",
    "\n",
    "            # Snake hit into wall or ate itself\n",
    "            end_of_game = len(self.snake) > len(set(self.snake)) or screen.sum() < sum_of_borders + len(self.snake)\n",
    "            reward = self.death_reward * end_of_game if end_of_game else self.alive_reward\n",
    "\n",
    "            # Draw fruit\n",
    "            if screen[self.fruit.y, self.fruit.x] > .5:\n",
    "                self.grow += 1\n",
    "                reward = len(self.snake) * self.life_reward\n",
    "                while True:\n",
    "                    self.fruit = self.Fruit(*np.random.randint(1, self.grid_size - 1, 2))\n",
    "                    if screen[self.fruit.y, self.fruit.x] < 1:\n",
    "                        break\n",
    "\n",
    "            screen[self.fruit.y, self.fruit.x] = .5\n",
    "\n",
    "            action = yield screen, reward, len(self.snake)-self.snake_length\n",
    "\n",
    "            step_size = sum([abs(act) for act in action])\n",
    "            if not step_size:\n",
    "                action = self.actions[0]  # Repeat last action\n",
    "            elif step_size > 1:\n",
    "                raise ValueError('Cannot move more than 1 unit at a time')\n",
    "\n",
    "            self.actions.insert(0, action)\n",
    "            self.actions.pop()\n",
    "\n",
    "            # For as long as the snake needs to grow,\n",
    "            # copy last segment, and add (0, 0) action\n",
    "            if self.grow > 0:\n",
    "                self.snake.append(self.snake[-1])\n",
    "                self.actions.append((0, 0))\n",
    "                self.grow -= 1\n",
    "\n",
    "            # Update snake segments\n",
    "            for ix, act in enumerate(self.actions):\n",
    "                x, y = self.snake[ix]\n",
    "                delta_x, delta_y = act\n",
    "                self.snake[ix] = x + delta_x, y + delta_y\n",
    "\n",
    "            if end_of_game:\n",
    "                break"
   ]
  },
  {
   "cell_type": "markdown",
   "metadata": {},
   "source": [
    "## Modeling an Agent"
   ]
  },
  {
   "cell_type": "markdown",
   "metadata": {},
   "source": [
    "Now that we have the environment set-up, it is time to create our agent which will play the game. Let us understand the structure and working of this agent.\n",
    "\n",
    "**Agent Parameters:**\n",
    "Our agents takes a set of input parameters inorder to build itself on top of them. Here is a list:\n",
    "* **all_possible_actions**: This is the set of actions which the agent can perform on the snake. The values are (0, 0) No action, (0, 1) Move up, (1, 0) Move right, (0, -1) Move down, (-1, 0) Move left.\n",
    "\n",
    "* **gamma**: This is the discount factor which we previously saw in the Q-learning section.\n",
    "\n",
    "* **nb_epochs**: As the agent is using a deep Q-network, it needs a certain number of training iterations to learn how to play, which is specified using this parameter.\n",
    "\n",
    "* **batch_size**: These are the number of experiences that will be used to train the agent at a time.\n",
    "\n",
    "* **epsilon**: Epsilon governs the randomness in the actions taken by the agent on the environment. As our agent proceeds with the game and learns something, epsilon is decreased in order to allow the DQN to take actions out of what it has learned.\n",
    "\n",
    "* **nb_frames**: A sequence of game frames which are used by the DQN during convolution.\n",
    "\n",
    "* **grid_size**: Specify the play area\n",
    "\n",
    "* **rewards**: The outcome of actions that the agent will recieve. In this game, there are 3 primary events that occur out of the actions taken- Eat food, Stay alive, Die. Based on the event, a reward is granted to the agent.\n",
    "\n",
    "* **load_path & save_path**: These parameters are for loading or saving the weights from training the model, so that they can be used as a base to further train the model.\n",
    "\n",
    "**How it works:**\n",
    "The agents takes the parameters and uses a _Convolutional Neural Network_ to build a DQN. It then obtains an instance of the game environment and begins training on it. The training process comprises of the following steps:\n",
    "* For half of the *nb_epochs*, take random actions and capture the game states and rewards - refered as **Experience Replay**.\n",
    "* While the first half of the training consists of random actions (exploration), the other half is all about the model taking actions, known as _exploitation_.\n",
    "* The set of experiences are sub-sampled into a batches of size *batch_size*.\n",
    "* The batches are iterated through and a set of target Q-values are calculated using the _Bellman equation_.\n",
    "* These Q-values are mapped to the states, which gives us kind of a  Q-table that is fed to the neural network for training.\n",
    "\n",
    "Once the training process is complete, we test the agent for a certain number of episodes."
   ]
  },
  {
   "cell_type": "code",
   "execution_count": 46,
   "metadata": {},
   "outputs": [],
   "source": [
    "class Agent(object):\n",
    "    def __init__(self, \n",
    "                 all_possible_actions,\n",
    "                 gamma=0.9, \n",
    "                 batch_size=32,\n",
    "                 epsilon=1,\n",
    "                 nb_frames = 4,\n",
    "                 grid_size=10,\n",
    "                 rewards=[5, -1, -10],\n",
    "                load_path='',\n",
    "                save_path=''):\n",
    "        \n",
    "        self.gamma = gamma\n",
    "        self.batch_size = batch_size\n",
    "        self.epsilon = epsilon\n",
    "        self.min_epsilon = 0.3\n",
    "        self.epsilon_rate = 0.99\n",
    "        self.action_set = all_possible_actions\n",
    "        self.nb_actions = len(self.action_set)\n",
    "        self.rewards = rewards\n",
    "        self.nb_frames = nb_frames\n",
    "        self.save_path = save_path\n",
    "        \n",
    "        self.grid_size = grid_size\n",
    "\n",
    "        self.model = self.build_model(load_path)\n",
    "        \n",
    "        self.env = Snake(self.rewards, self.grid_size)\n",
    "        \n",
    "    def build_model(self, load_path):\n",
    "        num_filters = [16, 32]\n",
    "        \n",
    "        model = Sequential()\n",
    "        model.add(BatchNormalization(axis=1, input_shape=(self.nb_frames, self.grid_size, self.grid_size)))\n",
    "        for filters in num_filters:\n",
    "            model.add(Conv2D(filters=filters, \n",
    "                             input_shape = (self.nb_frames, self.grid_size, self.grid_size), \n",
    "                             kernel_size=(3,3), \n",
    "                             padding='same', \n",
    "                             activation='relu'))\n",
    "            model.add(MaxPooling2D(pool_size=(2, 2), strides=2, padding='same'))\n",
    "        model.add(Flatten())\n",
    "        model.add(Dense(256, activation='relu'))\n",
    "        model.add(Dense(self.nb_actions, activation='softmax'))\n",
    "                       \n",
    "        if load_path!='':\n",
    "            model.load_weights(load_path)\n",
    "        model.compile(optimizer=SGD(lr=0.001), loss='mse', metrics=['accuracy'])\n",
    "        \n",
    "        return model\n",
    "    \n",
    "    def save_weights(self):\n",
    "        if self.save_path!='':\n",
    "            self.model.save_weights(self.save_path, overwrite=True)\n",
    "    \n",
    "    def model_summary(self):\n",
    "        print(self.model.summary())\n",
    "    \n",
    "    def experience_replay(self, batch_size):\n",
    "        \"\"\"\n",
    "        Coroutine of experience replay.\n",
    "\n",
    "        Provide a new experience by calling send, which in turn yields \n",
    "        a random batch of previous replay experiences.\n",
    "        \"\"\"\n",
    "        memory = []\n",
    "        while True:\n",
    "            experience = yield rsample(memory, batch_size) if batch_size <= len(memory) else None\n",
    "            memory.append(experience)\n",
    "    \n",
    "\n",
    "    def train(self, nb_epochs=1000):\n",
    "        self.exp_replay = self.experience_replay(self.batch_size)\n",
    "        # Start experience replay coroutine\n",
    "        next(self.exp_replay)\n",
    "        \n",
    "        for i in range(nb_epochs):\n",
    "            g = self.env.play()\n",
    "            screen, _, _ = next(g)\n",
    "            S = np.asarray([screen] * self.nb_frames)\n",
    "            try:\n",
    "                # Decrease epsilon over the first half of training\n",
    "                if self.epsilon > self.min_epsilon:\n",
    "                    self.epsilon -= self.epsilon_rate / (nb_epochs / 2)\n",
    "\n",
    "                while True:\n",
    "                    if np.random.random() < self.epsilon:\n",
    "                        ix = np.random.randint(self.nb_actions)\n",
    "                    else:\n",
    "                        ix = np.argmax(self.model.predict(S[np.newaxis]), axis=-1)[0]\n",
    "\n",
    "                    action = self.action_set[ix]\n",
    "                    screen, reward, _ = g.send(action)\n",
    "                    S_prime = np.zeros_like(S) \n",
    "                    S_prime[1:] = S[:-1]\n",
    "                    S_prime[0] = screen\n",
    "                    experience = (S, action, reward, S_prime)\n",
    "                    S = S_prime\n",
    "\n",
    "                    batch = self.exp_replay.send(experience)\n",
    "\n",
    "                    if batch:\n",
    "                        inputs = []\n",
    "                        targets = []\n",
    "                        for s, a, r, s_prime in batch:\n",
    "                            # The targets of unchosen actions are set to the q-values of the model,\n",
    "                            # so that the corresponding errors are 0. The targets of chosen actions\n",
    "                            # are set to either the rewards, in case a terminal state has been reached, \n",
    "                            # or future discounted q-values, in case episodes are still running.\n",
    "                            t = self.model.predict(s[np.newaxis]).flatten()\n",
    "                            ix = self.action_set.index(a)\n",
    "                            if r < 0:\n",
    "                                t[ix] = r\n",
    "                            else:\n",
    "                                t[ix] = r + self.gamma * self.model.predict(s_prime[np.newaxis]).max(axis=-1)\n",
    "                            targets.append(t)\n",
    "                            inputs.append(s)\n",
    "\n",
    "                        self.model.train_on_batch(np.array(inputs), np.array(targets))    \n",
    "\n",
    "            except StopIteration:\n",
    "               pass\n",
    "            \n",
    "            if i==0 or (i+1) % 1000 == 0:\n",
    "                print('Epoch %6i/%i, epsilon: %.3f' % (i + 1, nb_epochs, self.epsilon))\n",
    "                self.save_weights()\n",
    "        \n",
    "        print('Training complete..\\n')\n",
    "\n",
    "    def render(self, render=False, save=False):\n",
    "        if save:\n",
    "            if 'images' not in os.listdir('.'):\n",
    "                os.mkdir('images')\n",
    "        \n",
    "        frame_cnt = it.count()\n",
    "        while True:\n",
    "            screen = (yield)\n",
    "            if render:\n",
    "                clear_output(wait=True)\n",
    "                plt.imshow(screen, interpolation='none', cmap='gray')\n",
    "                display(plt.show())\n",
    "            \n",
    "            if save:\n",
    "                plt.imshow(screen, interpolation='none', cmap='gray')\n",
    "                plt.savefig('images/%04i.png' % (next(frame_cnt), ))\n",
    "    \n",
    "    \n",
    "    def test(self, render, nb_episodes=10):\n",
    "        img_saver = self.render(render)\n",
    "        next(img_saver)\n",
    "        \n",
    "        scores = []\n",
    "        self.max_episode_length = 100\n",
    "        \n",
    "        for _ in range(nb_episodes):\n",
    "            alive_reward_cap = 0\n",
    "\n",
    "            g = self.env.play()\n",
    "            screen, _, init_score = next(g)\n",
    "            img_saver.send(screen)\n",
    "            frame_cnt = it.count()\n",
    "            try:\n",
    "                S = np.asarray([screen] * self.nb_frames)\n",
    "                while True:\n",
    "                    next(frame_cnt)\n",
    "                    ix = np.argmax(self.model.predict(S[np.newaxis]), axis=-1)[0]\n",
    "                    screen, r, score = g.send(self.action_set[ix])\n",
    "                    S[1:] = S[:-1]\n",
    "                    S[0] = screen\n",
    "                    img_saver.send(screen)\n",
    "\n",
    "                    if r % 5 == 0:\n",
    "                        alive_reward_cap = 0\n",
    "                    elif r == -1:\n",
    "                        alive_reward_cap += 1\n",
    "\n",
    "                    if alive_reward_cap > self.max_episode_length * (score+1):\n",
    "                        raise StopIteration\n",
    "\n",
    "            except StopIteration:\n",
    "                scores.append(score)\n",
    "                \n",
    "        img_saver.close()\n",
    "        return scores\n",
    "        "
   ]
  },
  {
   "cell_type": "markdown",
   "metadata": {},
   "source": [
    "## Let's play!"
   ]
  },
  {
   "cell_type": "markdown",
   "metadata": {},
   "source": [
    "Now that we have all the necessary code in place, its time to train the agent and test it after that.\n",
    "\n",
    "The way this is implemented is - For a certain number of attempts, the agent will play the game for some episodes and the scores will be collected for each of them. If the maximum score out of those episode scores is less than a minimum score (of 5), then the agent will be trained for, say 5000 epochs. This will go on until the maximum score achieved is more than 5."
   ]
  },
  {
   "cell_type": "code",
   "execution_count": 51,
   "metadata": {},
   "outputs": [],
   "source": [
    "def playSnake(training_iterations=1000, \n",
    "              test_episodes=10,\n",
    "              show_model=False):\n",
    "    \n",
    "    params = dict(\n",
    "        all_possible_actions=((0, 0), (-1, 0), (1, 0), (0, -1), (0, 1)),\n",
    "                     gamma=0.8, \n",
    "                     batch_size=64,\n",
    "                     epsilon=1,\n",
    "                     nb_frames = 2,\n",
    "                     grid_size=10,\n",
    "                     rewards=[5, -1, -10],\n",
    "                    load_path='game_weights/snake_game_weights_v2.h5',\n",
    "                    save_path=''\n",
    "    )\n",
    "\n",
    "    target_score = 8\n",
    "    max_scores = []\n",
    "    attempts = 2\n",
    "    \n",
    "    agent = Agent(**params)\n",
    "    \n",
    "    if show_model:\n",
    "        agent.model_summary()\n",
    "    \n",
    "    for attempt in range(attempts):\n",
    "        # ====Testing the model====\n",
    "        scores = agent.test(render=False, nb_episodes=test_episodes)\n",
    "        max_scores.append(max(scores))\n",
    "        \n",
    "        if max(scores) == target_score:\n",
    "            print(\"\\n==========\\nTarget achieved successfully!\\n==========\")\n",
    "            plt.bar(range(len(scores)),scores)\n",
    "            break\n",
    "        \n",
    "        if max(scores) <= 5:\n",
    "            # ====Training the model====\n",
    "            print('\\n-----Commencing Training process-----')\n",
    "            agent.train(nb_epochs=training_iterations)\n",
    "            \n",
    "    if attempts > 1:\n",
    "        plt.title('Max. Scores per iteration')\n",
    "        plt.plot(max_scores, label='Max scores per attempt')\n",
    "    else:\n",
    "        plt.title('Score summary per episode')\n",
    "        plt.bar(range(len(scores)),scores)"
   ]
  },
  {
   "cell_type": "code",
   "execution_count": 48,
   "metadata": {
    "scrolled": false
   },
   "outputs": [
    {
     "name": "stdout",
     "output_type": "stream",
     "text": [
      "\n",
      "-----Commencing Training process-----\n",
      "Epoch      1/5000, epsilon: 1.000\n",
      "Epoch   1000/5000, epsilon: 0.604\n",
      "Epoch   2000/5000, epsilon: 0.300\n",
      "Epoch   3000/5000, epsilon: 0.300\n",
      "Epoch   4000/5000, epsilon: 0.300\n",
      "Epoch   5000/5000, epsilon: 0.300\n",
      "Training complete..\n",
      "\n",
      "\n",
      "-----Commencing Training process-----\n",
      "Epoch      1/5000, epsilon: 0.300\n",
      "Epoch   1000/5000, epsilon: 0.300\n",
      "Epoch   2000/5000, epsilon: 0.300\n",
      "Epoch   3000/5000, epsilon: 0.300\n",
      "Epoch   4000/5000, epsilon: 0.300\n",
      "Epoch   5000/5000, epsilon: 0.300\n",
      "Training complete..\n",
      "\n",
      "\n",
      "-----Commencing Training process-----\n",
      "Epoch      1/5000, epsilon: 0.300\n",
      "Epoch   1000/5000, epsilon: 0.300\n",
      "Epoch   2000/5000, epsilon: 0.300\n",
      "Epoch   3000/5000, epsilon: 0.300\n",
      "Epoch   4000/5000, epsilon: 0.300\n",
      "Epoch   5000/5000, epsilon: 0.300\n",
      "Training complete..\n",
      "\n",
      "\n",
      "-----Commencing Training process-----\n",
      "Epoch      1/5000, epsilon: 0.300\n",
      "Epoch   1000/5000, epsilon: 0.300\n",
      "Epoch   2000/5000, epsilon: 0.300\n",
      "Epoch   3000/5000, epsilon: 0.300\n",
      "Epoch   4000/5000, epsilon: 0.300\n",
      "Epoch   5000/5000, epsilon: 0.300\n",
      "Training complete..\n",
      "\n",
      "\n",
      "-----Commencing Training process-----\n",
      "Epoch      1/5000, epsilon: 0.300\n",
      "Epoch   1000/5000, epsilon: 0.300\n",
      "Epoch   2000/5000, epsilon: 0.300\n",
      "Epoch   3000/5000, epsilon: 0.300\n",
      "Epoch   4000/5000, epsilon: 0.300\n",
      "Epoch   5000/5000, epsilon: 0.300\n",
      "Training complete..\n",
      "\n"
     ]
    },
    {
     "data": {
      "image/png": "[encoded data removed]",
      "text/plain": [
       "<Figure size 432x288 with 1 Axes>"
      ]
     },
     "metadata": {},
     "output_type": "display_data"
    }
   ],
   "source": [
    "playSnake(training_iterations=5000, test_episodes=50)"
   ]
  },
  {
   "cell_type": "markdown",
   "metadata": {},
   "source": [
    "We can see that there is some progress made by the agent after training. Let's train it more!"
   ]
  },
  {
   "cell_type": "code",
   "execution_count": 50,
   "metadata": {},
   "outputs": [
    {
     "name": "stdout",
     "output_type": "stream",
     "text": [
      "\n",
      "-----Commencing Training process-----\n",
      "Epoch      1/2000, epsilon: 0.999\n",
      "Epoch   1000/2000, epsilon: 0.299\n",
      "Epoch   2000/2000, epsilon: 0.299\n",
      "Training complete..\n",
      "\n",
      "\n",
      "-----Commencing Training process-----\n",
      "Epoch      1/2000, epsilon: 0.299\n",
      "Epoch   1000/2000, epsilon: 0.299\n",
      "Epoch   2000/2000, epsilon: 0.299\n",
      "Training complete..\n",
      "\n",
      "\n",
      "-----Commencing Training process-----\n",
      "Epoch      1/2000, epsilon: 0.299\n",
      "Epoch   1000/2000, epsilon: 0.299\n",
      "Epoch   2000/2000, epsilon: 0.299\n",
      "Training complete..\n",
      "\n"
     ]
    },
    {
     "data": {
      "image/png": "[encoded data removed]",
      "text/plain": [
       "<Figure size 432x288 with 1 Axes>"
      ]
     },
     "metadata": {},
     "output_type": "display_data"
    }
   ],
   "source": [
    "playSnake(training_iterations=2000, test_episodes=50)"
   ]
  },
  {
   "cell_type": "markdown",
   "metadata": {},
   "source": [
    "Alright! A slight improvement in the highest score. Probably training it a lot would make the agent play better."
   ]
  },
  {
   "cell_type": "code",
   "execution_count": 20,
   "metadata": {
    "scrolled": false
   },
   "outputs": [
    {
     "data": {
      "image/png": "[encoded data removed]",
      "text/plain": [
       "<Figure size 432x288 with 1 Axes>"
      ]
     },
     "metadata": {},
     "output_type": "display_data"
    }
   ],
   "source": [
    "playSnake(test_episodes=100)"
   ]
  },
  {
   "cell_type": "code",
   "execution_count": 3,
   "metadata": {},
   "outputs": [
    {
     "data": {
      "text/html": [
       "<img src=\"output_WX5pMq.gif\">"
      ],
      "text/plain": [
       "<IPython.core.display.HTML object>"
      ]
     },
     "execution_count": 3,
     "metadata": {},
     "output_type": "execute_result"
    }
   ],
   "source": [
    "# Run this cell to view a demo\n",
    "from IPython.display import HTML\n",
    "HTML('<img src=\"output_WX5pMq.gif\">')"
   ]
  },
  {
   "cell_type": "markdown",
   "metadata": {},
   "source": [
    "**Truth is out there!**\n",
    "After training for about 30,000 training epochs and testing for 100 episodes, the agent could achieve a highest score of 7.\n",
    "\n",
    "I have stored the weights from the training, which can be loaded directly into the model and tested.\n",
    "<hr>"
   ]
  },
  {
   "cell_type": "markdown",
   "metadata": {},
   "source": [
    "The performance can be improved in various ways, however, as per my experience during this project there is a minimal tuning that can be done by changing the following:\n",
    "\n",
    "* Model (Training parameters)\n",
    "* Reward values\n",
    "* Training iterations\n",
    "* Randomness (epsilon)\n",
    "\n",
    "In this problem, changing the reward values and randomness gave me better results than before. Furthermore, I changed the number of frames to be sent for training, which is a model input parameter of my DQN. A lot more tweaking can be done which might improve/degrade the results."
   ]
  },
  {
   "cell_type": "markdown",
   "metadata": {},
   "source": [
    "Common Observations about the game:\n",
    "* In most episodes, the snake takes a fixed set of moves, getting stuck in a loop.\n",
    "* If the snake keeps growing well, it usually bumps into itself and dies.\n",
    "* The snake is very good at avoiding walls, but sometimes avoids food as well."
   ]
  },
  {
   "cell_type": "markdown",
   "metadata": {},
   "source": [
    "## Conclusion"
   ]
  },
  {
   "cell_type": "markdown",
   "metadata": {},
   "source": [
    "In this project, I have applied the concept of deep reinforcement learning on the classic game - Snake. I used the approach called Q-learning, which is based on value functions that estimates the expected return of being in a given state. I extended this approach to deep Q-network and used a convolutional neural network to implement it. Using this approach, the maximum score I could achieve was 7 (seven)."
   ]
  },
  {
   "cell_type": "markdown",
   "metadata": {},
   "source": [
    "## Future Work"
   ]
  },
  {
   "cell_type": "markdown",
   "metadata": {},
   "source": [
    "This project can be further extended using concepts like _Policy search_ and _Actor-Critic method_. An interesting implementation would be to incorporate *Genetic algorithm* to create a population of agents and filter out the best through various generations."
   ]
  },
  {
   "cell_type": "markdown",
   "metadata": {},
   "source": [
    "## References\n",
    "<a id='references'></a>\n",
    "* [Basic Reinforcement Learning by Víctor Mayoral Vilches](https://github.com/vmayoral/basic_reinforcement_learning/blob/master/tutorial6/examples/Snake/snake.py)\n",
    "\n",
    "* [Interactive Python Notebook for RL in Catch](https://gist.github.com/cadurosar/bd54c723c1d6335a43c8)\n",
    "\n",
    "* [Introduction to reinforcement learning and OpenAI Gym](https://www.oreilly.com/learning/introduction-to-reinforcement-learning-and-openai-gym)"
   ]
  }
 ],
 "metadata": {
  "kernelspec": {
   "display_name": "Python 3",
   "language": "python",
   "name": "python3"
  },
  "language_info": {
   "codemirror_mode": {
    "name": "ipython",
    "version": 3
   },
   "file_extension": ".py",
   "mimetype": "text/x-python",
   "name": "python",
   "nbconvert_exporter": "python",
   "pygments_lexer": "ipython3",
   "version": "3.5.5"
  }
 },
 "nbformat": 4,
 "nbformat_minor": 2
}
